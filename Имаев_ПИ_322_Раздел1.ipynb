{
  "nbformat": 4,
  "nbformat_minor": 0,
  "metadata": {
    "colab": {
      "name": "Имаев_ПИ-322-Раздел1.ipynb",
      "provenance": [],
      "collapsed_sections": [],
      "authorship_tag": "ABX9TyPvW3aKjUY3fypOsSlOUTp/",
      "include_colab_link": true
    },
    "kernelspec": {
      "name": "python3",
      "display_name": "Python 3"
    },
    "language_info": {
      "name": "python"
    }
  },
  "cells": [
    {
      "cell_type": "markdown",
      "metadata": {
        "id": "view-in-github",
        "colab_type": "text"
      },
      "source": [
        "<a href=\"https://colab.research.google.com/github/ImaevBulat/RGR_BAS/blob/main/%D0%98%D0%BC%D0%B0%D0%B5%D0%B2_%D0%9F%D0%98_322_%D0%A0%D0%B0%D0%B7%D0%B4%D0%B5%D0%BB1.ipynb\" target=\"_parent\"><img src=\"https://colab.research.google.com/assets/colab-badge.svg\" alt=\"Open In Colab\"/></a>"
      ]
    },
    {
      "cell_type": "code",
      "execution_count": null,
      "metadata": {
        "id": "iA2JZ82vQ2ba"
      },
      "outputs": [],
      "source": [
        ""
      ]
    },
    {
      "cell_type": "markdown",
      "source": [
        "#Греческий алфавит\n",
        "Заглавная|Строчная|Название\n",
        "--|--|--\n",
        "Α|$\\alpha$|Альфа \n",
        "Β|$\\beta$|Бета\n",
        "Γ|$γ$|Гамма\n",
        "Δ|$δ$|Дельта\n",
        "Ε|$ϵ$|Эпсилон\n",
        "Ζ|$\\zeta$|Дзета\n",
        "Η|$\\eta$|Эта\n",
        "Θ|$\\theta$|Тэта\n",
        "Ι|$\\iota$|Йота\n",
        "Κ|$\\kappa$|Каппа\n",
        "Λ|$\\lambda$|Лямбда\n",
        "Μ|$\\mu$|Мю\n",
        "N|$\\nu$|Ню\n",
        "Ξ|$ξ$|Кси\n",
        "O|$o$|Омикрон\n",
        "Π|$π$|Пи\n",
        "Ρ|$ρ$|Ро\n",
        "Σ|$σ$|Сигма\n",
        "\n",
        "####Формула в отдельной строке:\n",
        "$${\\displaystyle f(x)={\\frac {1}{\\sigma {\\sqrt {2\\pi}}}}e^{-{\\frac {1}{2}}\\left({\\frac {x-\\mu }{\\sigma }}\\right)^{2}}}$$\n",
        "\n",
        "\n",
        "####Формула в тексте: ${\\displaystyle f(x)={\\frac {1}{\\sigma {\\sqrt {2\\pi}}}}e^{-{\\frac {1}{2}}\\left({\\frac {x-\\mu }{\\sigma }}\\right)^{2}}}$"
      ],
      "metadata": {
        "id": "AwCzWIWUQ4BG"
      }
    }
  ]
}